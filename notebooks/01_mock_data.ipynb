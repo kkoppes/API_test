{
 "cells": [
  {
   "cell_type": "code",
   "execution_count": 4,
   "metadata": {},
   "outputs": [],
   "source": [
    "from jsf import JSF"
   ]
  },
  {
   "cell_type": "code",
   "execution_count": 11,
   "metadata": {},
   "outputs": [
    {
     "data": {
      "text/plain": [
       "integers(min_value=1, max_value=9)"
      ]
     },
     "execution_count": 11,
     "metadata": {},
     "output_type": "execute_result"
    }
   ],
   "source": [
    "from_schema({\"type\": \"integer\", \"minimum\": 1, \"exclusiveMaximum\": 10})"
   ]
  },
  {
   "cell_type": "code",
   "execution_count": 10,
   "metadata": {},
   "outputs": [],
   "source": [
    "faker = JSF(\n",
    "    {\n",
    "        \"type\": \"object\",\n",
    "        \"properties\": {\n",
    "            \"name\": {\"type\": \"string\", \"$provider\": \"faker.name\"},\n",
    "            \"completed\": {\"type\": \"boolean\", \"$provider\": \"faker.boolean\"},\n",
    "        },\n",
    "        \"required\": [\"name\", \"completed\"],\n",
    "    }\n",
    ")\n",
    "\n",
    "fake_json = faker.generate()"
   ]
  },
  {
   "cell_type": "code",
   "execution_count": 9,
   "metadata": {},
   "outputs": [
    {
     "data": {
      "text/plain": [
       "{'name': 'Anthony Best', 'completed': False}"
      ]
     },
     "execution_count": 9,
     "metadata": {},
     "output_type": "execute_result"
    }
   ],
   "source": [
    "fake_json"
   ]
  },
  {
   "cell_type": "code",
   "execution_count": 16,
   "metadata": {},
   "outputs": [],
   "source": [
    "\n",
    "import requests\n",
    "\n",
    "\n",
    "payload = faker.generate()\n",
    "domain = 'http://localhost:8000'\n",
    "endpoint = '/task'\n",
    "\n",
    "for _ in range(10):\n",
    "    payload = faker.generate()\n",
    "    r = requests.post(domain + endpoint, json=payload)"
   ]
  },
  {
   "cell_type": "code",
   "execution_count": null,
   "metadata": {},
   "outputs": [],
   "source": []
  }
 ],
 "metadata": {
  "kernelspec": {
   "display_name": "Python 3.10.4 ('fastAPI')",
   "language": "python",
   "name": "python3"
  },
  "language_info": {
   "codemirror_mode": {
    "name": "ipython",
    "version": 3
   },
   "file_extension": ".py",
   "mimetype": "text/x-python",
   "name": "python",
   "nbconvert_exporter": "python",
   "pygments_lexer": "ipython3",
   "version": "3.10.4"
  },
  "orig_nbformat": 4,
  "vscode": {
   "interpreter": {
    "hash": "73605af3cd95fc7a4b078ca4e56d81a9642a4e8b69316232dac8dcbad4f99324"
   }
  }
 },
 "nbformat": 4,
 "nbformat_minor": 2
}
